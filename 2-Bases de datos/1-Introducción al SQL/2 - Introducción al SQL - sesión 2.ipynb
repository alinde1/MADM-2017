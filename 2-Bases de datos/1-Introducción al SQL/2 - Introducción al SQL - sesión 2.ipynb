{
 "cells": [
  {
   "cell_type": "markdown",
   "metadata": {
    "collapsed": true
   },
   "source": [
    "# Introducción a SQL: 2\n",
    "\n",
    "***\n",
    "<div class=\"panel panel-danger\">\n",
    "    <div class='panel-heading'>\n",
    "    <h4>Antes de empezar</h4>\n",
    "    </div>\n",
    "    <div class='panel-body'>\n",
    "    <p>Para poder ejecutar queries a la base de datos, necesitamos tener instalado antes el paquete [ipython-sql](https://github.com/catherinedevlin/ipython-sql).\n",
    "    \n",
    "    <p>Este paquete nos permite escribir las queries sql en las celdas del notebook y visualizar el resultado como tablas html renderizadas\n",
    "    <p>Ejecuta `!pip install ipython-sql` si es la primera vez que usas este notebook\n",
    "    </div>\n",
    "</div>"
   ]
  },
  {
   "cell_type": "code",
   "execution_count": 1,
   "metadata": {},
   "outputs": [
    {
     "name": "stdout",
     "output_type": "stream",
     "text": [
      "Requirement already satisfied: ipython-sql in /home/juanito/anaconda3/lib/python3.6/site-packages\n",
      "Requirement already satisfied: sqlalchemy>=0.6.7 in /home/juanito/anaconda3/lib/python3.6/site-packages (from ipython-sql)\n",
      "Requirement already satisfied: ipython-genutils>=0.1.0 in /home/juanito/anaconda3/lib/python3.6/site-packages (from ipython-sql)\n",
      "Requirement already satisfied: sqlparse in /home/juanito/anaconda3/lib/python3.6/site-packages (from ipython-sql)\n",
      "Requirement already satisfied: prettytable in /home/juanito/anaconda3/lib/python3.6/site-packages (from ipython-sql)\n",
      "Requirement already satisfied: ipython>=1.0 in /home/juanito/anaconda3/lib/python3.6/site-packages (from ipython-sql)\n",
      "Requirement already satisfied: six in /home/juanito/anaconda3/lib/python3.6/site-packages (from ipython-sql)\n"
     ]
    }
   ],
   "source": [
    "!pip install ipython-sql"
   ]
  },
  {
   "cell_type": "markdown",
   "metadata": {},
   "source": [
    "Una vez instalado, podemos invocar el entorno `SQL` usando `%load_ext sql`.\n",
    "Esto nos permitira usar el magic de ipython `%%sql` al principo de **cada** celda y ejecutar comandos sql directamente"
   ]
  },
  {
   "cell_type": "markdown",
   "metadata": {},
   "source": [
    "<div class=\"panel panel-success\">\n",
    "    <div class='panel-heading'>\n",
    "    <h4>Empecemos</h4>\n",
    "    </div>\n",
    "</div>\n",
    "\n",
    "\n",
    "Los objetivos de este notebook son:\n",
    "\n"
   ]
  },
  {
   "cell_type": "markdown",
   "metadata": {},
   "source": [
    "# 1. Creando una base de datos\n",
    "\n",
    "En la sesión anterior vimos como hacer consultas básicas a una base de datos. En esta sesión veremos como podemos crear y modificar nuestra propia base de datos relacional de forma sencilla.\n",
    "\n",
    "Las tareas que necesitaremos saber se pueden resumir en:\n",
    "\n",
    "1. Crear tablas\n",
    "2. Modificar tablas\n",
    "3. Eliminar tablas\n",
    "\n",
    "Para empezar, cargaremos el modulo `sql` que nos permitirá hacer las consultas SQL directamente desde el notebook.\n",
    "\n",
    "Crear una base de datos `sqlite` es muy sencillo. Para ello, simplemente hay que escribir el comando sql pertinente que es:\n",
    "\n",
    "`%sql sqlite:///nombredelaBDD.sqlite`\n",
    "\n",
    "y nos creará el archivo donde podremos crear y modificar tablas."
   ]
  },
  {
   "cell_type": "markdown",
   "metadata": {},
   "source": [
    "#### Carga el modulo sql y crea una nueva base de datos sqlite\n",
    "\n",
    "```python\n",
    "%load_ext sql\n",
    "%sql sqlite:///newdb.sqlite\n",
    "\n",
    "#check table works and is empty\n",
    "%sql SELECT name FROM sqlite_master WHERE type='table'\n",
    "```"
   ]
  },
  {
   "cell_type": "code",
   "execution_count": 3,
   "metadata": {},
   "outputs": [
    {
     "name": "stdout",
     "output_type": "stream",
     "text": [
      "Done.\n"
     ]
    },
    {
     "data": {
      "text/html": [
       "<table>\n",
       "    <tr>\n",
       "        <th>name</th>\n",
       "    </tr>\n",
       "</table>"
      ],
      "text/plain": [
       "[]"
      ]
     },
     "execution_count": 3,
     "metadata": {},
     "output_type": "execute_result"
    }
   ],
   "source": [
    "#copia y pega el snippet anterior\n",
    "%load_ext sql\n",
    "%sql sqlite:///newdb.sqlite\n",
    "\n",
    "#check table works and is empty\n",
    "%sql SELECT name FROM sqlite_master WHERE type='table'"
   ]
  },
  {
   "cell_type": "markdown",
   "metadata": {},
   "source": [
    "## Creando tablas\n",
    "\n",
    "### CREATE TABLE\n",
    "Para crear una tabla, escribimos:\n",
    "```SQL\n",
    "CREATE TABLE table_name ([schema])\n",
    "```\n",
    "\n",
    "### INSERT INTO\n",
    "Para insertar valores en una tabla existente\n",
    "\n",
    "```SQL\n",
    "INSERT INTO table_name ([column]) VALUES ([values]);\n",
    "```\n",
    "\n",
    "### DROP TABLE\n",
    "Para eliminar una tabla existente\n",
    "\n",
    "```SQL\n",
    "DROP TABLE IF EXISTS table_name\n",
    "```\n",
    "\n",
    "**Ojo!:**\n",
    " - Cuando trabajamos con cadenas de caracteres 'hola' debemos usar comillas simples.  (SQLite and MySQL no importa, Postgres (aws-redshift) sí!\n",
    " - Si no especificamos la PK cuando insertamos una fila, se asignará una PK automáticamente. Si intentamos crear una nueva fila con un PK que ya existe en la tabla, nos devolverá un error.\n",
    " - Es una buena práctica preceder la creación de una tabla con la eliminación de la misma, just in case! \n",
    "\n",
    "\n",
    "## Schemas\n",
    "SQL es tipado. Eso implica que cada columna de la tabla debe tener un tipo de datos específico. Al crear la tabla, deberemos especificar el **tipo** y otros atributos. Los tipos y atributos básicos son:\n",
    "\n",
    "- `INTEGER` (or `INT`): integer-valued numeric data\n",
    "- `FLOAT`: non-integer numeric data\n",
    "- `TEXT`: strings or textual data\n",
    "- `DATE`: a date object\n",
    "\n",
    "Columns can have optional attributes:\n",
    "\n",
    "- `PRIMARY KEY`: Especifica la clave primaria.\n",
    "- `NOT NULL`: Por defecto, los valores de una columna pueden ser nulos. `NOT NULL` obliga a la tabla a que todos los valores de la columna sean especificados.\n",
    "- `DEFAULT`: specify the default value in this column.\n",
    "\n",
    "### Ejemplo\n",
    "\n",
    "Elimina la tabla alumnos si existe y la crea con tres campos: id_alumno, nombre, y edad. El nombre no puede ser nulo mientras que la edad es opcional.\n",
    "\n",
    "```SQL\n",
    "DROP TABLE IF EXISTS alumnos;\n",
    "CREATE TABLE alumnos (\n",
    "    id_alumno INTEGER PRIMARY KEY,\n",
    "    nombre TEXT NOT NULL,\n",
    "    edad INT\n",
    ");\n",
    "\n",
    "INSERT INTO alumnos (nombre) VALUES ('Otelo');\n",
    "INSERT INTO alumnos (nombre, edad) VALUES ('Desdémona', 20);\n",
    "\n",
    "SELECT * FROM alumnos;\n",
    "```\n",
    "Si quisieramos que la edad tuviera un valor por defecto, deberíamos añadir el atributo `DEFAULT` seguido del valor por defecto. "
   ]
  },
  {
   "cell_type": "markdown",
   "metadata": {},
   "source": [
    "#### Ejercicio 1: Crea la tabla anterior y haz que la edad tenga por defecto un valor de -1"
   ]
  },
  {
   "cell_type": "code",
   "execution_count": 7,
   "metadata": {
    "scrolled": true
   },
   "outputs": [
    {
     "name": "stdout",
     "output_type": "stream",
     "text": [
      "Done.\n",
      "Done.\n",
      "1 rows affected.\n",
      "1 rows affected.\n",
      "Done.\n"
     ]
    },
    {
     "data": {
      "text/html": [
       "<table>\n",
       "    <tr>\n",
       "        <th>id_alumno</th>\n",
       "        <th>nombre</th>\n",
       "        <th>edad</th>\n",
       "    </tr>\n",
       "    <tr>\n",
       "        <td>1</td>\n",
       "        <td>Otelo</td>\n",
       "        <td>-1</td>\n",
       "    </tr>\n",
       "    <tr>\n",
       "        <td>2</td>\n",
       "        <td>Desdémona</td>\n",
       "        <td>20</td>\n",
       "    </tr>\n",
       "</table>"
      ],
      "text/plain": [
       "[(1, 'Otelo', -1), (2, 'Desdémona', 20)]"
      ]
     },
     "execution_count": 7,
     "metadata": {},
     "output_type": "execute_result"
    }
   ],
   "source": [
    "%%sql\n",
    "\n",
    "--Hola esto es un comentario\n",
    "DROP TABLE IF EXISTS alumnos;\n",
    "\n",
    "CREATE TABLE alumnos (\n",
    "    id_alumno INTEGER PRIMARY KEY,\n",
    "    nombre TEXT NOT NULL,\n",
    "    edad INT DEFAULT -1\n",
    ");\n",
    "\n",
    "INSERT INTO alumnos (nombre) VALUES ('Otelo');\n",
    "INSERT INTO alumnos (nombre, edad) VALUES ('Desdémona', 20);\n",
    "\n",
    "SELECT * FROM alumnos;"
   ]
  },
  {
   "cell_type": "markdown",
   "metadata": {},
   "source": [
    "## Modificar tablas\n",
    "\n",
    "Existen queries que nos permiten modificar tablas.\n",
    "\n",
    "```SQL\n",
    "DELETE FROM table_name [WHERE condition]\n",
    "```\n",
    "\n",
    "Elimina las filas de la tabla especificada segun la condición.\n",
    "\n",
    "```SQL\n",
    "UPDATE table_name SET column_name1=value [WHERE condition]\n",
    "```\n",
    "\n",
    "Actualiza los valores de la columna especificada. Podemos especificar condiciones, por ejemplo, a que identificador lo queremos cambiar o imputar valores nulos de forma persistente.\n",
    "\n",
    "Si queremos modificar columnas, los comandos son:\n",
    "\n",
    "```SQL\n",
    "ALTER TABLE table_name DROP COLUMN column_name (no soportado en sqlite)\n",
    "```\n",
    "\n",
    "```SQL\n",
    "ALTER TABLE table_name ADD COLUMN column_name column_type;\n",
    "```\n"
   ]
  },
  {
   "cell_type": "markdown",
   "metadata": {},
   "source": [
    "#### Ejercicio 2: En la tabla alumnos que has creado en el Ejercicio 1, actualiza la edad de Otelo a 23"
   ]
  },
  {
   "cell_type": "code",
   "execution_count": 9,
   "metadata": {
    "scrolled": true
   },
   "outputs": [
    {
     "name": "stdout",
     "output_type": "stream",
     "text": [
      "1 rows affected.\n"
     ]
    },
    {
     "data": {
      "text/plain": [
       "[]"
      ]
     },
     "execution_count": 9,
     "metadata": {},
     "output_type": "execute_result"
    }
   ],
   "source": [
    "%%sql\n",
    "UPDATE alumnos SET edad=23 \n",
    "WHERE\n",
    "    nombre='Otelo'\n"
   ]
  },
  {
   "cell_type": "markdown",
   "metadata": {},
   "source": [
    "#### Ejercicio 3: En la tabla alumnos, añade la columna `genero` con el valor que corresponde a cada uno de los dos personajes"
   ]
  },
  {
   "cell_type": "code",
   "execution_count": 10,
   "metadata": {},
   "outputs": [
    {
     "name": "stdout",
     "output_type": "stream",
     "text": [
      "Done.\n"
     ]
    },
    {
     "data": {
      "text/plain": [
       "[]"
      ]
     },
     "execution_count": 10,
     "metadata": {},
     "output_type": "execute_result"
    }
   ],
   "source": [
    "%%sql\n",
    "\n",
    "ALTER TABLE alumnos\n",
    "ADD genero TEXT\n",
    "\n"
   ]
  },
  {
   "cell_type": "code",
   "execution_count": 14,
   "metadata": {},
   "outputs": [
    {
     "name": "stdout",
     "output_type": "stream",
     "text": [
      "1 rows affected.\n",
      "1 rows affected.\n",
      "Done.\n"
     ]
    },
    {
     "data": {
      "text/html": [
       "<table>\n",
       "    <tr>\n",
       "        <th>id_alumno</th>\n",
       "        <th>nombre</th>\n",
       "        <th>edad</th>\n",
       "        <th>genero</th>\n",
       "    </tr>\n",
       "    <tr>\n",
       "        <td>1</td>\n",
       "        <td>Otelo</td>\n",
       "        <td>23</td>\n",
       "        <td>M</td>\n",
       "    </tr>\n",
       "    <tr>\n",
       "        <td>2</td>\n",
       "        <td>Desdémona</td>\n",
       "        <td>20</td>\n",
       "        <td>F</td>\n",
       "    </tr>\n",
       "</table>"
      ],
      "text/plain": [
       "[(1, 'Otelo', 23, 'M'), (2, 'Desdémona', 20, 'F')]"
      ]
     },
     "execution_count": 14,
     "metadata": {},
     "output_type": "execute_result"
    }
   ],
   "source": [
    "%%sql\n",
    "UPDATE alumnos SET genero='M' \n",
    "WHERE\n",
    "    nombre LIKE('Ot%');\n",
    "    \n",
    "UPDATE alumnos SET genero='F' \n",
    "WHERE\n",
    "    nombre LIKE('%a');\n",
    "    \n",
    "SELECT * FROM alumnos;"
   ]
  },
  {
   "cell_type": "markdown",
   "metadata": {},
   "source": [
    "#### Ejercicio 4: En la tabla alumnos, elimina la entrada de Desdemona y añade una nueva"
   ]
  },
  {
   "cell_type": "code",
   "execution_count": 21,
   "metadata": {},
   "outputs": [
    {
     "name": "stdout",
     "output_type": "stream",
     "text": [
      "2 rows affected.\n",
      "1 rows affected.\n",
      "Done.\n"
     ]
    },
    {
     "data": {
      "text/html": [
       "<table>\n",
       "    <tr>\n",
       "        <th>id_alumno</th>\n",
       "        <th>nombre</th>\n",
       "        <th>edad</th>\n",
       "        <th>genero</th>\n",
       "    </tr>\n",
       "    <tr>\n",
       "        <td>1</td>\n",
       "        <td>Otelo</td>\n",
       "        <td>23</td>\n",
       "        <td>M</td>\n",
       "    </tr>\n",
       "    <tr>\n",
       "        <td>2</td>\n",
       "        <td>Anacleto</td>\n",
       "        <td>45</td>\n",
       "        <td>M</td>\n",
       "    </tr>\n",
       "</table>"
      ],
      "text/plain": [
       "[(1, 'Otelo', 23, 'M'), (2, 'Anacleto', 45, 'M')]"
      ]
     },
     "execution_count": 21,
     "metadata": {},
     "output_type": "execute_result"
    }
   ],
   "source": [
    "%%sql\n",
    "\n",
    "DELETE FROM alumnos WHERE nombre LIKE 'Anac%';\n",
    "INSERT INTO alumnos (nombre, edad, genero) VALUES ('Anacleto', 45,'M');\n",
    "SELECT * FROM alumnos;"
   ]
  },
  {
   "cell_type": "markdown",
   "metadata": {},
   "source": [
    "#### Ejercicio 5: Haz una query a toda la tabla y guardala en un csv usando pandas"
   ]
  },
  {
   "cell_type": "code",
   "execution_count": 22,
   "metadata": {
    "collapsed": true
   },
   "outputs": [],
   "source": [
    "import sqlite3\n",
    "\n",
    "import pandas as pd\n",
    "\n",
    "conn = sqlite3.connect('newdb.sqlite')\n",
    "\n",
    "query = \"\"\"SELECT * FROM alumnos\"\"\"\n",
    "\n",
    "df = pd.read_sql(query, conn)"
   ]
  },
  {
   "cell_type": "code",
   "execution_count": 23,
   "metadata": {},
   "outputs": [
    {
     "data": {
      "text/html": [
       "<div>\n",
       "<style>\n",
       "    .dataframe thead tr:only-child th {\n",
       "        text-align: right;\n",
       "    }\n",
       "\n",
       "    .dataframe thead th {\n",
       "        text-align: left;\n",
       "    }\n",
       "\n",
       "    .dataframe tbody tr th {\n",
       "        vertical-align: top;\n",
       "    }\n",
       "</style>\n",
       "<table border=\"1\" class=\"dataframe\">\n",
       "  <thead>\n",
       "    <tr style=\"text-align: right;\">\n",
       "      <th></th>\n",
       "      <th>id_alumno</th>\n",
       "      <th>nombre</th>\n",
       "      <th>edad</th>\n",
       "      <th>genero</th>\n",
       "    </tr>\n",
       "  </thead>\n",
       "  <tbody>\n",
       "    <tr>\n",
       "      <th>0</th>\n",
       "      <td>1</td>\n",
       "      <td>Otelo</td>\n",
       "      <td>23</td>\n",
       "      <td>M</td>\n",
       "    </tr>\n",
       "    <tr>\n",
       "      <th>1</th>\n",
       "      <td>2</td>\n",
       "      <td>Anacleto</td>\n",
       "      <td>45</td>\n",
       "      <td>M</td>\n",
       "    </tr>\n",
       "  </tbody>\n",
       "</table>\n",
       "</div>"
      ],
      "text/plain": [
       "   id_alumno    nombre  edad genero\n",
       "0          1     Otelo    23      M\n",
       "1          2  Anacleto    45      M"
      ]
     },
     "execution_count": 23,
     "metadata": {},
     "output_type": "execute_result"
    }
   ],
   "source": [
    "df"
   ]
  },
  {
   "cell_type": "code",
   "execution_count": 24,
   "metadata": {
    "collapsed": true
   },
   "outputs": [],
   "source": [
    "df.to_csv('alunmnos.csv')"
   ]
  },
  {
   "cell_type": "code",
   "execution_count": 26,
   "metadata": {},
   "outputs": [
    {
     "name": "stdout",
     "output_type": "stream",
     "text": [
      ",id_alumno,nombre,edad,genero\r\n",
      "0,1,Otelo,23,M\r\n",
      "1,2,Anacleto,45,M\r\n"
     ]
    }
   ],
   "source": [
    "!cat alunmnos.csv"
   ]
  },
  {
   "cell_type": "markdown",
   "metadata": {},
   "source": [
    "## Creando tablas SQL: Un atajo con pandas\n",
    "\n",
    "A estas alturas ya deberíamos estar convenvidos de que pandas es una herramienta increible en muchos aspectos. Uno de ellos es que nos permite crear tablas en bases de datos de forma automática. Si tenemos un pandas.DataFrame() y una conexión a una base de datos, pandas nos creara de forma automática las queries necesarias para crear el esquema y la tabla e insertar todas las filas.\n",
    "\n",
    "```python\n",
    "import pandas as pd\n",
    "import sqlite3\n",
    "\n",
    "conn = sqlite3.connect('newdb.sqlite')\n",
    "\n",
    "df = pd.read_csv('somedata.csv')\n",
    "df.to_sql('table_name', conn, if_exists= \"replace\", index=False)\n",
    "```\n",
    "\n"
   ]
  },
  {
   "cell_type": "markdown",
   "metadata": {},
   "source": [
    "#### Ejercicio 6: Crea una base de datos nueva `bdd_notas.sqlite`, lee los ficheros csv de la carpeta `data` y crea las tablas estudiantes, asignaturas y notas."
   ]
  },
  {
   "cell_type": "code",
   "execution_count": null,
   "metadata": {
    "collapsed": true
   },
   "outputs": [],
   "source": [
    "import sqlite3\n",
    "\n",
    "import pandas as pd\n",
    "\n",
    "conn = sqlite3.connect('bdd_notas.sqlite')\n",
    "\n",
    "df = pd.read_csv('url/alumnos.csv')\n",
    "\n",
    "\n",
    "df.to_sql('alumnos', conn, if_exist=\"replace\")"
   ]
  },
  {
   "cell_type": "markdown",
   "metadata": {},
   "source": [
    "# 2. SQL\n",
    "---\n",
    "\n",
    "## Query básica\n",
    "\n",
    "En resumen, la query básica para leer datos de **Una** tabla de nuestra base de datos sería:\n",
    "\n",
    "```SQL\n",
    "SELECT expression1, expression2, ...\n",
    "FROM table_name\n",
    "[WHERE condition]\n",
    "[GROUP BY columns]\n",
    "[HAVING condition]\n",
    "[ORDER BY columns]\n",
    "[LIMIT number];\n",
    "```\n",
    "\n",
    "---\n",
    "\n",
    "## Joins\n",
    "\n",
    "Esta opción nos permite combinar información de distintas tablas y hacer consultas sobre este nuevo conjunto.\n",
    "\n",
    "### Inner JOIN\n",
    "\n",
    "Nos devuelve la intersección de las tablas seleccionadas, es decir, aquellas filas donde las distintas columnas tienen valores no nulos.\n",
    "\n",
    "```SQL\n",
    "SELECT a.col1,\n",
    "       a.col2,\n",
    "       b.col1,\n",
    "       b.col2\n",
    "FROM table_a as a\n",
    "INNER JOIN table_be as b\n",
    "ON a.key = b.key\n",
    "```\n",
    "\n",
    "### LEFT JOIN\n",
    "\n",
    "El comando LEFT JOIN devuelve todos lor registros de la tabla de la izquierda (LEFT) y los registros correspondientes de la otra tabla, en caso en que no existan devuelve NULL.\n",
    "\n",
    "```SQL\n",
    "SELECT a.col1,\n",
    "       a.col2,\n",
    "       b.col1,\n",
    "       b.col2\n",
    "FROM table_a as a\n",
    "LEFT JOIN table_be as b\n",
    "ON a.key = b.key\n",
    "```\n",
    "\n"
   ]
  },
  {
   "cell_type": "code",
   "execution_count": 1,
   "metadata": {},
   "outputs": [
    {
     "data": {
      "text/html": [
       "<div>\n",
       "<style>\n",
       "    .dataframe thead tr:only-child th {\n",
       "        text-align: right;\n",
       "    }\n",
       "\n",
       "    .dataframe thead th {\n",
       "        text-align: left;\n",
       "    }\n",
       "\n",
       "    .dataframe tbody tr th {\n",
       "        vertical-align: top;\n",
       "    }\n",
       "</style>\n",
       "<table border=\"1\" class=\"dataframe\">\n",
       "  <thead>\n",
       "    <tr style=\"text-align: right;\">\n",
       "      <th></th>\n",
       "      <th>name</th>\n",
       "    </tr>\n",
       "  </thead>\n",
       "  <tbody>\n",
       "    <tr>\n",
       "      <th>0</th>\n",
       "      <td>estudiantes</td>\n",
       "    </tr>\n",
       "    <tr>\n",
       "      <th>1</th>\n",
       "      <td>asignaturas</td>\n",
       "    </tr>\n",
       "    <tr>\n",
       "      <th>2</th>\n",
       "      <td>notas</td>\n",
       "    </tr>\n",
       "  </tbody>\n",
       "</table>\n",
       "</div>"
      ],
      "text/plain": [
       "          name\n",
       "0  estudiantes\n",
       "1  asignaturas\n",
       "2        notas"
      ]
     },
     "execution_count": 1,
     "metadata": {},
     "output_type": "execute_result"
    }
   ],
   "source": [
    "import pandas as pd\n",
    "import sqlite3\n",
    "\n",
    "conn = sqlite3.connect('bdd_notas.sqlite')\n",
    "\n",
    "query = \"\"\"\n",
    "SELECT name FROM sqlite_master WHERE type='table'\n",
    "\"\"\"\n",
    "\n",
    "df = pd.read_sql(query, conn)\n",
    "df"
   ]
  },
  {
   "cell_type": "markdown",
   "metadata": {},
   "source": [
    "#### Ejercicio 0: Saca la primera fila con todas las columnas de cada una de las tablas "
   ]
  },
  {
   "cell_type": "code",
   "execution_count": 29,
   "metadata": {},
   "outputs": [
    {
     "data": {
      "text/html": [
       "<div>\n",
       "<style>\n",
       "    .dataframe thead tr:only-child th {\n",
       "        text-align: right;\n",
       "    }\n",
       "\n",
       "    .dataframe thead th {\n",
       "        text-align: left;\n",
       "    }\n",
       "\n",
       "    .dataframe tbody tr th {\n",
       "        vertical-align: top;\n",
       "    }\n",
       "</style>\n",
       "<table border=\"1\" class=\"dataframe\">\n",
       "  <thead>\n",
       "    <tr style=\"text-align: right;\">\n",
       "      <th></th>\n",
       "      <th>student_id</th>\n",
       "      <th>name</th>\n",
       "    </tr>\n",
       "  </thead>\n",
       "  <tbody>\n",
       "    <tr>\n",
       "      <th>0</th>\n",
       "      <td>101</td>\n",
       "      <td>Juan</td>\n",
       "    </tr>\n",
       "  </tbody>\n",
       "</table>\n",
       "</div>"
      ],
      "text/plain": [
       "   student_id  name\n",
       "0         101  Juan"
      ]
     },
     "execution_count": 29,
     "metadata": {},
     "output_type": "execute_result"
    }
   ],
   "source": [
    "query = \"\"\" SELECT * FROM estudiantes LIMIT 1\"\"\"\n",
    "\n",
    "pd.read_sql(query, conn)"
   ]
  },
  {
   "cell_type": "code",
   "execution_count": 37,
   "metadata": {},
   "outputs": [
    {
     "data": {
      "text/html": [
       "<div>\n",
       "<style>\n",
       "    .dataframe thead tr:only-child th {\n",
       "        text-align: right;\n",
       "    }\n",
       "\n",
       "    .dataframe thead th {\n",
       "        text-align: left;\n",
       "    }\n",
       "\n",
       "    .dataframe tbody tr th {\n",
       "        vertical-align: top;\n",
       "    }\n",
       "</style>\n",
       "<table border=\"1\" class=\"dataframe\">\n",
       "  <thead>\n",
       "    <tr style=\"text-align: right;\">\n",
       "      <th></th>\n",
       "      <th>asign_id</th>\n",
       "      <th>student_id</th>\n",
       "      <th>year</th>\n",
       "      <th>nota</th>\n",
       "    </tr>\n",
       "  </thead>\n",
       "  <tbody>\n",
       "    <tr>\n",
       "      <th>0</th>\n",
       "      <td>201</td>\n",
       "      <td>103</td>\n",
       "      <td>2015</td>\n",
       "      <td>9.2</td>\n",
       "    </tr>\n",
       "  </tbody>\n",
       "</table>\n",
       "</div>"
      ],
      "text/plain": [
       "  asign_id student_id  year  nota\n",
       "0      201        103  2015   9.2"
      ]
     },
     "execution_count": 37,
     "metadata": {},
     "output_type": "execute_result"
    }
   ],
   "source": [
    "query = \"\"\" SELECT * FROM notas LIMIT 1\"\"\"\n",
    "\n",
    "pd.read_sql(query, conn)"
   ]
  },
  {
   "cell_type": "code",
   "execution_count": 32,
   "metadata": {},
   "outputs": [
    {
     "data": {
      "text/html": [
       "<div>\n",
       "<style>\n",
       "    .dataframe thead tr:only-child th {\n",
       "        text-align: right;\n",
       "    }\n",
       "\n",
       "    .dataframe thead th {\n",
       "        text-align: left;\n",
       "    }\n",
       "\n",
       "    .dataframe tbody tr th {\n",
       "        vertical-align: top;\n",
       "    }\n",
       "</style>\n",
       "<table border=\"1\" class=\"dataframe\">\n",
       "  <thead>\n",
       "    <tr style=\"text-align: right;\">\n",
       "      <th></th>\n",
       "      <th>asign_id</th>\n",
       "      <th>asignatura</th>\n",
       "    </tr>\n",
       "  </thead>\n",
       "  <tbody>\n",
       "    <tr>\n",
       "      <th>0</th>\n",
       "      <td>201</td>\n",
       "      <td>Mates</td>\n",
       "    </tr>\n",
       "  </tbody>\n",
       "</table>\n",
       "</div>"
      ],
      "text/plain": [
       "   asign_id asignatura\n",
       "0       201      Mates"
      ]
     },
     "execution_count": 32,
     "metadata": {},
     "output_type": "execute_result"
    }
   ],
   "source": [
    "query = \"\"\" SELECT * FROM asignaturas LIMIT 1\"\"\"\n",
    "\n",
    "pd.read_sql(query, conn)"
   ]
  },
  {
   "cell_type": "markdown",
   "metadata": {},
   "source": [
    "#### Ejercicio 1: Haz un LEFT JOIN de todas las tablas"
   ]
  },
  {
   "cell_type": "code",
   "execution_count": 40,
   "metadata": {},
   "outputs": [
    {
     "data": {
      "text/html": [
       "<div>\n",
       "<style>\n",
       "    .dataframe thead tr:only-child th {\n",
       "        text-align: right;\n",
       "    }\n",
       "\n",
       "    .dataframe thead th {\n",
       "        text-align: left;\n",
       "    }\n",
       "\n",
       "    .dataframe tbody tr th {\n",
       "        vertical-align: top;\n",
       "    }\n",
       "</style>\n",
       "<table border=\"1\" class=\"dataframe\">\n",
       "  <thead>\n",
       "    <tr style=\"text-align: right;\">\n",
       "      <th></th>\n",
       "      <th>student_id</th>\n",
       "      <th>name</th>\n",
       "      <th>asign_id</th>\n",
       "      <th>student_id</th>\n",
       "      <th>year</th>\n",
       "      <th>nota</th>\n",
       "      <th>asign_id</th>\n",
       "      <th>asignatura</th>\n",
       "    </tr>\n",
       "  </thead>\n",
       "  <tbody>\n",
       "    <tr>\n",
       "      <th>0</th>\n",
       "      <td>101</td>\n",
       "      <td>Juan</td>\n",
       "      <td>None</td>\n",
       "      <td>None</td>\n",
       "      <td>NaN</td>\n",
       "      <td>NaN</td>\n",
       "      <td>NaN</td>\n",
       "      <td>None</td>\n",
       "    </tr>\n",
       "    <tr>\n",
       "      <th>1</th>\n",
       "      <td>102</td>\n",
       "      <td>Maria</td>\n",
       "      <td>None</td>\n",
       "      <td>None</td>\n",
       "      <td>NaN</td>\n",
       "      <td>NaN</td>\n",
       "      <td>NaN</td>\n",
       "      <td>None</td>\n",
       "    </tr>\n",
       "    <tr>\n",
       "      <th>2</th>\n",
       "      <td>103</td>\n",
       "      <td>Pedro</td>\n",
       "      <td>201</td>\n",
       "      <td>103</td>\n",
       "      <td>2015.0</td>\n",
       "      <td>9.2</td>\n",
       "      <td>201.0</td>\n",
       "      <td>Mates</td>\n",
       "    </tr>\n",
       "    <tr>\n",
       "      <th>3</th>\n",
       "      <td>103</td>\n",
       "      <td>Pedro</td>\n",
       "      <td>201</td>\n",
       "      <td>103</td>\n",
       "      <td>2016.0</td>\n",
       "      <td>7.3</td>\n",
       "      <td>201.0</td>\n",
       "      <td>Mates</td>\n",
       "    </tr>\n",
       "    <tr>\n",
       "      <th>4</th>\n",
       "      <td>103</td>\n",
       "      <td>Pedro</td>\n",
       "      <td>201</td>\n",
       "      <td>103</td>\n",
       "      <td>2017.0</td>\n",
       "      <td>8.6</td>\n",
       "      <td>201.0</td>\n",
       "      <td>Mates</td>\n",
       "    </tr>\n",
       "    <tr>\n",
       "      <th>5</th>\n",
       "      <td>103</td>\n",
       "      <td>Pedro</td>\n",
       "      <td>302</td>\n",
       "      <td>103</td>\n",
       "      <td>2015.0</td>\n",
       "      <td>7.3</td>\n",
       "      <td>302.0</td>\n",
       "      <td>Física</td>\n",
       "    </tr>\n",
       "    <tr>\n",
       "      <th>6</th>\n",
       "      <td>103</td>\n",
       "      <td>Pedro</td>\n",
       "      <td>302</td>\n",
       "      <td>103</td>\n",
       "      <td>2016.0</td>\n",
       "      <td>4.7</td>\n",
       "      <td>302.0</td>\n",
       "      <td>Física</td>\n",
       "    </tr>\n",
       "    <tr>\n",
       "      <th>7</th>\n",
       "      <td>103</td>\n",
       "      <td>Pedro</td>\n",
       "      <td>302</td>\n",
       "      <td>103</td>\n",
       "      <td>2017.0</td>\n",
       "      <td>6.5</td>\n",
       "      <td>302.0</td>\n",
       "      <td>Física</td>\n",
       "    </tr>\n",
       "    <tr>\n",
       "      <th>8</th>\n",
       "      <td>103</td>\n",
       "      <td>Pedro</td>\n",
       "      <td>211</td>\n",
       "      <td>103</td>\n",
       "      <td>2015.0</td>\n",
       "      <td>8.5</td>\n",
       "      <td>211.0</td>\n",
       "      <td>Filosofía</td>\n",
       "    </tr>\n",
       "    <tr>\n",
       "      <th>9</th>\n",
       "      <td>103</td>\n",
       "      <td>Pedro</td>\n",
       "      <td>211</td>\n",
       "      <td>103</td>\n",
       "      <td>2016.0</td>\n",
       "      <td>8.3</td>\n",
       "      <td>211.0</td>\n",
       "      <td>Filosofía</td>\n",
       "    </tr>\n",
       "    <tr>\n",
       "      <th>10</th>\n",
       "      <td>103</td>\n",
       "      <td>Pedro</td>\n",
       "      <td>211</td>\n",
       "      <td>103</td>\n",
       "      <td>2017.0</td>\n",
       "      <td>7.2</td>\n",
       "      <td>211.0</td>\n",
       "      <td>Filosofía</td>\n",
       "    </tr>\n",
       "    <tr>\n",
       "      <th>11</th>\n",
       "      <td>103</td>\n",
       "      <td>Pedro</td>\n",
       "      <td>302</td>\n",
       "      <td>103</td>\n",
       "      <td>2015.0</td>\n",
       "      <td>7.3</td>\n",
       "      <td>302.0</td>\n",
       "      <td>Física</td>\n",
       "    </tr>\n",
       "    <tr>\n",
       "      <th>12</th>\n",
       "      <td>104</td>\n",
       "      <td>Ana</td>\n",
       "      <td>201</td>\n",
       "      <td>104</td>\n",
       "      <td>2015.0</td>\n",
       "      <td>2.0</td>\n",
       "      <td>201.0</td>\n",
       "      <td>Mates</td>\n",
       "    </tr>\n",
       "    <tr>\n",
       "      <th>13</th>\n",
       "      <td>104</td>\n",
       "      <td>Ana</td>\n",
       "      <td>201</td>\n",
       "      <td>104</td>\n",
       "      <td>2016.0</td>\n",
       "      <td>3.0</td>\n",
       "      <td>201.0</td>\n",
       "      <td>Mates</td>\n",
       "    </tr>\n",
       "    <tr>\n",
       "      <th>14</th>\n",
       "      <td>104</td>\n",
       "      <td>Ana</td>\n",
       "      <td>201</td>\n",
       "      <td>104</td>\n",
       "      <td>2017.0</td>\n",
       "      <td>6.0</td>\n",
       "      <td>201.0</td>\n",
       "      <td>Mates</td>\n",
       "    </tr>\n",
       "    <tr>\n",
       "      <th>15</th>\n",
       "      <td>105</td>\n",
       "      <td>Susana</td>\n",
       "      <td>302</td>\n",
       "      <td>105</td>\n",
       "      <td>2016.0</td>\n",
       "      <td>4.7</td>\n",
       "      <td>302.0</td>\n",
       "      <td>Física</td>\n",
       "    </tr>\n",
       "    <tr>\n",
       "      <th>16</th>\n",
       "      <td>105</td>\n",
       "      <td>Susana</td>\n",
       "      <td>302</td>\n",
       "      <td>105</td>\n",
       "      <td>2017.0</td>\n",
       "      <td>6.5</td>\n",
       "      <td>302.0</td>\n",
       "      <td>Física</td>\n",
       "    </tr>\n",
       "    <tr>\n",
       "      <th>17</th>\n",
       "      <td>105</td>\n",
       "      <td>Susana</td>\n",
       "      <td>211</td>\n",
       "      <td>105</td>\n",
       "      <td>2015.0</td>\n",
       "      <td>8.5</td>\n",
       "      <td>211.0</td>\n",
       "      <td>Filosofía</td>\n",
       "    </tr>\n",
       "    <tr>\n",
       "      <th>18</th>\n",
       "      <td>106</td>\n",
       "      <td>Jose</td>\n",
       "      <td>None</td>\n",
       "      <td>None</td>\n",
       "      <td>NaN</td>\n",
       "      <td>NaN</td>\n",
       "      <td>NaN</td>\n",
       "      <td>None</td>\n",
       "    </tr>\n",
       "    <tr>\n",
       "      <th>19</th>\n",
       "      <td>107</td>\n",
       "      <td>Raimundo</td>\n",
       "      <td>None</td>\n",
       "      <td>None</td>\n",
       "      <td>NaN</td>\n",
       "      <td>NaN</td>\n",
       "      <td>NaN</td>\n",
       "      <td>None</td>\n",
       "    </tr>\n",
       "  </tbody>\n",
       "</table>\n",
       "</div>"
      ],
      "text/plain": [
       "   student_id      name  asign_id student_id    year  nota  asign_id  \\\n",
       "0         101      Juan      None       None     NaN   NaN       NaN   \n",
       "1         102     Maria      None       None     NaN   NaN       NaN   \n",
       "2         103     Pedro       201        103  2015.0   9.2     201.0   \n",
       "3         103     Pedro       201        103  2016.0   7.3     201.0   \n",
       "4         103     Pedro       201        103  2017.0   8.6     201.0   \n",
       "5         103     Pedro       302        103  2015.0   7.3     302.0   \n",
       "6         103     Pedro       302        103  2016.0   4.7     302.0   \n",
       "7         103     Pedro       302        103  2017.0   6.5     302.0   \n",
       "8         103     Pedro       211        103  2015.0   8.5     211.0   \n",
       "9         103     Pedro       211        103  2016.0   8.3     211.0   \n",
       "10        103     Pedro       211        103  2017.0   7.2     211.0   \n",
       "11        103     Pedro       302        103  2015.0   7.3     302.0   \n",
       "12        104       Ana       201        104  2015.0   2.0     201.0   \n",
       "13        104       Ana       201        104  2016.0   3.0     201.0   \n",
       "14        104       Ana       201        104  2017.0   6.0     201.0   \n",
       "15        105    Susana       302        105  2016.0   4.7     302.0   \n",
       "16        105    Susana       302        105  2017.0   6.5     302.0   \n",
       "17        105    Susana       211        105  2015.0   8.5     211.0   \n",
       "18        106      Jose      None       None     NaN   NaN       NaN   \n",
       "19        107  Raimundo      None       None     NaN   NaN       NaN   \n",
       "\n",
       "   asignatura  \n",
       "0        None  \n",
       "1        None  \n",
       "2       Mates  \n",
       "3       Mates  \n",
       "4       Mates  \n",
       "5      Física  \n",
       "6      Física  \n",
       "7      Física  \n",
       "8   Filosofía  \n",
       "9   Filosofía  \n",
       "10  Filosofía  \n",
       "11     Física  \n",
       "12      Mates  \n",
       "13      Mates  \n",
       "14      Mates  \n",
       "15     Física  \n",
       "16     Física  \n",
       "17  Filosofía  \n",
       "18       None  \n",
       "19       None  "
      ]
     },
     "execution_count": 40,
     "metadata": {},
     "output_type": "execute_result"
    }
   ],
   "source": [
    "query = \"\"\"\n",
    "\n",
    "SELECT *\n",
    "FROM estudiantes as e\n",
    "LEFT JOIN notas as n ON n.student_id = e.student_id\n",
    "LEFT JOIN asignaturas as a ON n.asign_id = a.asign_id\n",
    "\"\"\"\n",
    "\n",
    "pd.read_sql(query, conn)"
   ]
  },
  {
   "cell_type": "markdown",
   "metadata": {},
   "source": [
    "#### Ejercicio 2: Qué asignatura que tiene peor nota media de todas?"
   ]
  },
  {
   "cell_type": "code",
   "execution_count": 42,
   "metadata": {},
   "outputs": [
    {
     "data": {
      "text/html": [
       "<div>\n",
       "<style>\n",
       "    .dataframe thead tr:only-child th {\n",
       "        text-align: right;\n",
       "    }\n",
       "\n",
       "    .dataframe thead th {\n",
       "        text-align: left;\n",
       "    }\n",
       "\n",
       "    .dataframe tbody tr th {\n",
       "        vertical-align: top;\n",
       "    }\n",
       "</style>\n",
       "<table border=\"1\" class=\"dataframe\">\n",
       "  <thead>\n",
       "    <tr style=\"text-align: right;\">\n",
       "      <th></th>\n",
       "      <th>asignatura</th>\n",
       "      <th>avg_nota</th>\n",
       "    </tr>\n",
       "  </thead>\n",
       "  <tbody>\n",
       "    <tr>\n",
       "      <th>0</th>\n",
       "      <td>Filosofía</td>\n",
       "      <td>6.6</td>\n",
       "    </tr>\n",
       "  </tbody>\n",
       "</table>\n",
       "</div>"
      ],
      "text/plain": [
       "  asignatura  avg_nota\n",
       "0  Filosofía       6.6"
      ]
     },
     "execution_count": 42,
     "metadata": {},
     "output_type": "execute_result"
    }
   ],
   "source": [
    "query = \"\"\"\n",
    "\n",
    "SELECT a.asignatura, AVG(n.nota) as avg_nota\n",
    "FROM notas as n\n",
    "LEFT JOIN asignaturas as a\n",
    "GROUP BY a.asignatura\n",
    "ORDER BY avg_nota ASC\n",
    "LIMIT 1\n",
    "\n",
    "\"\"\"\n",
    "\n",
    "pd.read_sql(query, conn)"
   ]
  },
  {
   "cell_type": "markdown",
   "metadata": {},
   "source": [
    "#### Ejercicio 3: Que estudiantes tienen una nota media menor que 5. Agrupalo por años."
   ]
  },
  {
   "cell_type": "code",
   "execution_count": 6,
   "metadata": {},
   "outputs": [
    {
     "data": {
      "text/html": [
       "<div>\n",
       "<style>\n",
       "    .dataframe thead tr:only-child th {\n",
       "        text-align: right;\n",
       "    }\n",
       "\n",
       "    .dataframe thead th {\n",
       "        text-align: left;\n",
       "    }\n",
       "\n",
       "    .dataframe tbody tr th {\n",
       "        vertical-align: top;\n",
       "    }\n",
       "</style>\n",
       "<table border=\"1\" class=\"dataframe\">\n",
       "  <thead>\n",
       "    <tr style=\"text-align: right;\">\n",
       "      <th></th>\n",
       "      <th>name</th>\n",
       "      <th>year</th>\n",
       "      <th>nota_media</th>\n",
       "    </tr>\n",
       "  </thead>\n",
       "  <tbody>\n",
       "    <tr>\n",
       "      <th>0</th>\n",
       "      <td>Ana</td>\n",
       "      <td>2015</td>\n",
       "      <td>2.0</td>\n",
       "    </tr>\n",
       "    <tr>\n",
       "      <th>1</th>\n",
       "      <td>Ana</td>\n",
       "      <td>2016</td>\n",
       "      <td>3.0</td>\n",
       "    </tr>\n",
       "    <tr>\n",
       "      <th>2</th>\n",
       "      <td>Susana</td>\n",
       "      <td>2016</td>\n",
       "      <td>4.7</td>\n",
       "    </tr>\n",
       "  </tbody>\n",
       "</table>\n",
       "</div>"
      ],
      "text/plain": [
       "     name  year  nota_media\n",
       "0     Ana  2015         2.0\n",
       "1     Ana  2016         3.0\n",
       "2  Susana  2016         4.7"
      ]
     },
     "execution_count": 6,
     "metadata": {},
     "output_type": "execute_result"
    }
   ],
   "source": [
    "query = \"\"\" \n",
    "SELECT\n",
    "    e.name, n.year, avg(n.nota) as nota_media\n",
    "FROM\n",
    "    notas n\n",
    "    LEFT JOIN estudiantes e\n",
    "    ON e.student_id = n.student_id\n",
    "GROUP BY\n",
    "    n.year, e.name\n",
    "HAVING\n",
    "    AVG(n.nota) < 5\n",
    "\n",
    "\"\"\"\n",
    "\n",
    "pd.read_sql(query, conn)"
   ]
  },
  {
   "cell_type": "markdown",
   "metadata": {},
   "source": [
    "#### Ejercicio 4: Que asignaturas son las peores de cada año? Haz una query para cada año."
   ]
  },
  {
   "cell_type": "code",
   "execution_count": 22,
   "metadata": {},
   "outputs": [
    {
     "data": {
      "text/html": [
       "<div>\n",
       "<style>\n",
       "    .dataframe thead tr:only-child th {\n",
       "        text-align: right;\n",
       "    }\n",
       "\n",
       "    .dataframe thead th {\n",
       "        text-align: left;\n",
       "    }\n",
       "\n",
       "    .dataframe tbody tr th {\n",
       "        vertical-align: top;\n",
       "    }\n",
       "</style>\n",
       "<table border=\"1\" class=\"dataframe\">\n",
       "  <thead>\n",
       "    <tr style=\"text-align: right;\">\n",
       "      <th></th>\n",
       "      <th>asignatura</th>\n",
       "      <th>avg_nota</th>\n",
       "    </tr>\n",
       "  </thead>\n",
       "  <tbody>\n",
       "    <tr>\n",
       "      <th>0</th>\n",
       "      <td>Mates</td>\n",
       "      <td>5.6</td>\n",
       "    </tr>\n",
       "  </tbody>\n",
       "</table>\n",
       "</div>"
      ],
      "text/plain": [
       "  asignatura  avg_nota\n",
       "0      Mates       5.6"
      ]
     },
     "execution_count": 22,
     "metadata": {},
     "output_type": "execute_result"
    }
   ],
   "source": [
    "# 2015\n",
    "query = \"\"\"\n",
    "SELECT a.asignatura, AVG(n.nota) as avg_nota\n",
    "FROM notas as n\n",
    "LEFT JOIN asignaturas as a\n",
    "ON a.asign_id = n.asign_id\n",
    "WHERE n.year=2015\n",
    "GROUP BY a.asignatura\n",
    "ORDER BY avg_nota ASC\n",
    "LIMIT 1\n",
    "\"\"\"\n",
    "\n",
    "pd.read_sql(query, conn)"
   ]
  },
  {
   "cell_type": "code",
   "execution_count": 23,
   "metadata": {},
   "outputs": [
    {
     "data": {
      "text/html": [
       "<div>\n",
       "<style>\n",
       "    .dataframe thead tr:only-child th {\n",
       "        text-align: right;\n",
       "    }\n",
       "\n",
       "    .dataframe thead th {\n",
       "        text-align: left;\n",
       "    }\n",
       "\n",
       "    .dataframe tbody tr th {\n",
       "        vertical-align: top;\n",
       "    }\n",
       "</style>\n",
       "<table border=\"1\" class=\"dataframe\">\n",
       "  <thead>\n",
       "    <tr style=\"text-align: right;\">\n",
       "      <th></th>\n",
       "      <th>asignatura</th>\n",
       "      <th>avg_nota</th>\n",
       "    </tr>\n",
       "  </thead>\n",
       "  <tbody>\n",
       "    <tr>\n",
       "      <th>0</th>\n",
       "      <td>Física</td>\n",
       "      <td>4.7</td>\n",
       "    </tr>\n",
       "  </tbody>\n",
       "</table>\n",
       "</div>"
      ],
      "text/plain": [
       "  asignatura  avg_nota\n",
       "0     Física       4.7"
      ]
     },
     "execution_count": 23,
     "metadata": {},
     "output_type": "execute_result"
    }
   ],
   "source": [
    "# 2016\n",
    "\n",
    "query = \"\"\"\n",
    "SELECT a.asignatura, AVG(n.nota) as avg_nota\n",
    "FROM notas as n\n",
    "LEFT JOIN asignaturas as a\n",
    "ON a.asign_id = n.asign_id\n",
    "WHERE n.year=2016\n",
    "GROUP BY a.asignatura\n",
    "ORDER BY avg_nota ASC\n",
    "LIMIT 1\n",
    "\"\"\"\n",
    "\n",
    "pd.read_sql(query, conn)"
   ]
  },
  {
   "cell_type": "code",
   "execution_count": 24,
   "metadata": {},
   "outputs": [
    {
     "data": {
      "text/html": [
       "<div>\n",
       "<style>\n",
       "    .dataframe thead tr:only-child th {\n",
       "        text-align: right;\n",
       "    }\n",
       "\n",
       "    .dataframe thead th {\n",
       "        text-align: left;\n",
       "    }\n",
       "\n",
       "    .dataframe tbody tr th {\n",
       "        vertical-align: top;\n",
       "    }\n",
       "</style>\n",
       "<table border=\"1\" class=\"dataframe\">\n",
       "  <thead>\n",
       "    <tr style=\"text-align: right;\">\n",
       "      <th></th>\n",
       "      <th>asignatura</th>\n",
       "      <th>avg_nota</th>\n",
       "    </tr>\n",
       "  </thead>\n",
       "  <tbody>\n",
       "    <tr>\n",
       "      <th>0</th>\n",
       "      <td>Física</td>\n",
       "      <td>6.5</td>\n",
       "    </tr>\n",
       "  </tbody>\n",
       "</table>\n",
       "</div>"
      ],
      "text/plain": [
       "  asignatura  avg_nota\n",
       "0     Física       6.5"
      ]
     },
     "execution_count": 24,
     "metadata": {},
     "output_type": "execute_result"
    }
   ],
   "source": [
    "# 2017\n",
    "\n",
    "query = \"\"\"\n",
    "SELECT a.asignatura, AVG(n.nota) as avg_nota\n",
    "FROM notas as n\n",
    "LEFT JOIN asignaturas as a\n",
    "ON a.asign_id = n.asign_id\n",
    "WHERE n.year=2017\n",
    "GROUP BY a.asignatura\n",
    "ORDER BY avg_nota ASC\n",
    "LIMIT 1\"\"\"\n",
    "\n",
    "pd.read_sql(query, conn)"
   ]
  },
  {
   "cell_type": "markdown",
   "metadata": {},
   "source": [
    "### UNION and UNION ALL\n",
    "\n",
    "Estos comando se usan para unir tablas o resultados de consultas que tienen las mismas columnas.\n",
    "La diferencia entre `UNION` y `UNION ALL` es que la primera elimina los registros duplicados mientras que la última no.\n",
    "\n",
    "Cómo puedes imaginar, estos comandos se pueden usar para filtrar y agregar.\n",
    "\n",
    "La sintaxis básica es:\n",
    "\n",
    "```SQL\n",
    "(SELECT statement)\n",
    " UNION [ALL]\n",
    "(SELECT STATEMENT)```\n",
    "\n",
    "\n",
    "Recuerda que las SELECT deben tener el mismo número de columnas."
   ]
  },
  {
   "cell_type": "markdown",
   "metadata": {},
   "source": [
    "#### Ejercicio 4.b: Realiza la misma consulta que en el Ejercicio 4 pero en una sola query usando UNION ALL"
   ]
  },
  {
   "cell_type": "code",
   "execution_count": 43,
   "metadata": {},
   "outputs": [
    {
     "data": {
      "text/html": [
       "<div>\n",
       "<style>\n",
       "    .dataframe thead tr:only-child th {\n",
       "        text-align: right;\n",
       "    }\n",
       "\n",
       "    .dataframe thead th {\n",
       "        text-align: left;\n",
       "    }\n",
       "\n",
       "    .dataframe tbody tr th {\n",
       "        vertical-align: top;\n",
       "    }\n",
       "</style>\n",
       "<table border=\"1\" class=\"dataframe\">\n",
       "  <thead>\n",
       "    <tr style=\"text-align: right;\">\n",
       "      <th></th>\n",
       "      <th>asignatura</th>\n",
       "      <th>year</th>\n",
       "      <th>avg_nota</th>\n",
       "    </tr>\n",
       "  </thead>\n",
       "  <tbody>\n",
       "    <tr>\n",
       "      <th>0</th>\n",
       "      <td>Mates</td>\n",
       "      <td>2015</td>\n",
       "      <td>5.6</td>\n",
       "    </tr>\n",
       "    <tr>\n",
       "      <th>1</th>\n",
       "      <td>Física</td>\n",
       "      <td>2016</td>\n",
       "      <td>5.6</td>\n",
       "    </tr>\n",
       "    <tr>\n",
       "      <th>2</th>\n",
       "      <td>Física</td>\n",
       "      <td>2017</td>\n",
       "      <td>6.5</td>\n",
       "    </tr>\n",
       "    <tr>\n",
       "      <th>3</th>\n",
       "      <td>Filosofía</td>\n",
       "      <td>2017</td>\n",
       "      <td>7.2</td>\n",
       "    </tr>\n",
       "    <tr>\n",
       "      <th>4</th>\n",
       "      <td>Física</td>\n",
       "      <td>2015</td>\n",
       "      <td>7.3</td>\n",
       "    </tr>\n",
       "    <tr>\n",
       "      <th>5</th>\n",
       "      <td>Mates</td>\n",
       "      <td>2017</td>\n",
       "      <td>7.3</td>\n",
       "    </tr>\n",
       "    <tr>\n",
       "      <th>6</th>\n",
       "      <td>Filosofía</td>\n",
       "      <td>2015</td>\n",
       "      <td>8.5</td>\n",
       "    </tr>\n",
       "  </tbody>\n",
       "</table>\n",
       "</div>"
      ],
      "text/plain": [
       "  asignatura  year  avg_nota\n",
       "0      Mates  2015       5.6\n",
       "1     Física  2016       5.6\n",
       "2     Física  2017       6.5\n",
       "3  Filosofía  2017       7.2\n",
       "4     Física  2015       7.3\n",
       "5      Mates  2017       7.3\n",
       "6  Filosofía  2015       8.5"
      ]
     },
     "execution_count": 43,
     "metadata": {},
     "output_type": "execute_result"
    }
   ],
   "source": [
    "query = \"\"\"\n",
    "\n",
    "SELECT a.asignatura,n.year, AVG(n.nota) as avg_nota\n",
    "FROM notas as n\n",
    "LEFT JOIN asignaturas as a\n",
    "ON a.asign_id = n.asign_id\n",
    "WHERE n.year=2015\n",
    "GROUP BY a.asignatura\n",
    "\n",
    "UNION ALL\n",
    "\n",
    "SELECT a.asignatura,n.year, AVG(n.nota) as avg_nota\n",
    "FROM notas as n\n",
    "LEFT JOIN asignaturas as a\n",
    "ON a.asign_id = n.asign_id\n",
    "WHERE n.year=2016\n",
    "\n",
    "UNION ALL\n",
    "\n",
    "SELECT a.asignatura, n.year, AVG(n.nota) as avg_nota\n",
    "FROM notas as n\n",
    "LEFT JOIN asignaturas as a\n",
    "ON a.asign_id = n.asign_id\n",
    "WHERE n.year = 2017\n",
    "\n",
    "GROUP BY a.asignatura\n",
    "ORDER BY avg_nota asc\n",
    "\"\"\"\n",
    "\n",
    "pd.read_sql(query, conn)"
   ]
  },
  {
   "cell_type": "markdown",
   "metadata": {},
   "source": [
    "Imagina que tenemos 15 años distintos. Sería una tarea un tanto repetitiva la de picar a mano una query que nos devolviera lo mismo la peor asignatura de cada año.\n",
    "\n",
    "Una de las ventajas de integrar el flujo de SQL en python (pandas) es que podemos hacer este tipo de tareas de forma programática.\n",
    "\n",
    "Vamos a intentar automatizar el proceso. De esta forma, si hay alguna nueva entrada en la tabla o base de datos, al volver a ejecutar este trozo tendremos el resultado actualizado"
   ]
  },
  {
   "cell_type": "code",
   "execution_count": 45,
   "metadata": {},
   "outputs": [],
   "source": [
    "# Haz una query que te devuelva todos los años distintos de la tabla notas\n",
    "\n",
    "query_years = \"\"\"SELECT DISTINCT(year) FROM notas ORDER BY year ASC\"\"\"\n",
    "years_unique = pd.read_sql(query_years, conn)\n",
    "\n",
    "#1. Inicializa una lista vacia\n",
    "list_df = []\n",
    "#2. Haz un barrido para todas los años en la columna year de years_unique.\n",
    "#     2.a Escribe una query donde le pases como variable el año. (Tip: \"Hola {j}\".foógicarmat(j='juan'))\n",
    "#     2.b Realiza una consulta a la BDD con la query y guarda el resultado en un df\n",
    "#     2.c Guarda el resultado en el último puesto de la lista (Tip: append())\n",
    "for year in years_unique['year'].values:\n",
    "    query = \"\"\"\n",
    "            SELECT a.asignatura, AVG(n.nota) as avg_nota\n",
    "            FROM notas as n\n",
    "            LEFT JOIN asignaturas as a\n",
    "            ON a.asign_id = n.asign_id\n",
    "            WHERE n.year={y}\n",
    "            GROUP BY a.asignatura\n",
    "            ORDER BY avg_nota ASC\n",
    "            LIMIT 1\"\"\".format(y=year)\n",
    "    df = pd.read_sql(query, conn)\n",
    "    list_df.append(df)\n",
    "\n",
    "\n",
    "#3. Haz una concatenación de los df en la lista (TIP: pd.concat())\n",
    "df_all = pd.concat(list_df)\n",
    "\n",
    "#4. Haz un print del resultado"
   ]
  },
  {
   "cell_type": "code",
   "execution_count": 46,
   "metadata": {},
   "outputs": [
    {
     "data": {
      "text/html": [
       "<div>\n",
       "<style>\n",
       "    .dataframe thead tr:only-child th {\n",
       "        text-align: right;\n",
       "    }\n",
       "\n",
       "    .dataframe thead th {\n",
       "        text-align: left;\n",
       "    }\n",
       "\n",
       "    .dataframe tbody tr th {\n",
       "        vertical-align: top;\n",
       "    }\n",
       "</style>\n",
       "<table border=\"1\" class=\"dataframe\">\n",
       "  <thead>\n",
       "    <tr style=\"text-align: right;\">\n",
       "      <th></th>\n",
       "      <th>asignatura</th>\n",
       "      <th>avg_nota</th>\n",
       "    </tr>\n",
       "  </thead>\n",
       "  <tbody>\n",
       "    <tr>\n",
       "      <th>0</th>\n",
       "      <td>Mates</td>\n",
       "      <td>5.6</td>\n",
       "    </tr>\n",
       "    <tr>\n",
       "      <th>0</th>\n",
       "      <td>Física</td>\n",
       "      <td>4.7</td>\n",
       "    </tr>\n",
       "    <tr>\n",
       "      <th>0</th>\n",
       "      <td>Física</td>\n",
       "      <td>6.5</td>\n",
       "    </tr>\n",
       "  </tbody>\n",
       "</table>\n",
       "</div>"
      ],
      "text/plain": [
       "  asignatura  avg_nota\n",
       "0      Mates       5.6\n",
       "0     Física       4.7\n",
       "0     Física       6.5"
      ]
     },
     "execution_count": 46,
     "metadata": {},
     "output_type": "execute_result"
    }
   ],
   "source": [
    "df_all"
   ]
  },
  {
   "cell_type": "markdown",
   "metadata": {},
   "source": [
    "## Subqueries\n",
    "\n",
    "En el ejemplo anterior, podríamos haber decidido que en vez de filtrar año a año y unir las tablas lo que nos resulta más eficiente es primero realizar una agregación por año y asignatura para después realizar un filtrado del resultado y quedarnos con el menor.\n",
    "\n",
    "SQL permite realizar este tipo de acciones mediante el anidado de queries. Es decir, sustituir alguno de los campos en la query por otra query que nos haga un primer filtrado.\n",
    "\n",
    "Por ejemplo,\n",
    "\n",
    "```SQL\n",
    "\n",
    "SELECT nota\n",
    "FROM notas\n",
    "WHERE asign_id = (SELECT asign_id\n",
    "                  FROM asignaturas\n",
    "                  WHERE asignatura='Mates')\n",
    "```\n",
    "\n",
    "Nos devolvería las notas de la asignatura de matemáticas."
   ]
  },
  {
   "cell_type": "markdown",
   "metadata": {},
   "source": [
    "#### Ejercicio 5: Encuentra la peor asignatura de cada año:\n",
    "1. 5a: Realiza una query que devuelva la media de cada asignatura por año y comprueba que funciona\n",
    "1. 5b: Usa la consulta del punto anterior como tabla en el FROM y devuelve la menor de las notas de cada año"
   ]
  },
  {
   "cell_type": "code",
   "execution_count": 52,
   "metadata": {},
   "outputs": [
    {
     "data": {
      "text/html": [
       "<div>\n",
       "<style>\n",
       "    .dataframe thead tr:only-child th {\n",
       "        text-align: right;\n",
       "    }\n",
       "\n",
       "    .dataframe thead th {\n",
       "        text-align: left;\n",
       "    }\n",
       "\n",
       "    .dataframe tbody tr th {\n",
       "        vertical-align: top;\n",
       "    }\n",
       "</style>\n",
       "<table border=\"1\" class=\"dataframe\">\n",
       "  <thead>\n",
       "    <tr style=\"text-align: right;\">\n",
       "      <th></th>\n",
       "      <th>year</th>\n",
       "      <th>asignatura</th>\n",
       "      <th>avg_nota</th>\n",
       "    </tr>\n",
       "  </thead>\n",
       "  <tbody>\n",
       "    <tr>\n",
       "      <th>0</th>\n",
       "      <td>2015</td>\n",
       "      <td>Filosofía</td>\n",
       "      <td>8.50</td>\n",
       "    </tr>\n",
       "    <tr>\n",
       "      <th>1</th>\n",
       "      <td>2015</td>\n",
       "      <td>Física</td>\n",
       "      <td>7.30</td>\n",
       "    </tr>\n",
       "    <tr>\n",
       "      <th>2</th>\n",
       "      <td>2015</td>\n",
       "      <td>Mates</td>\n",
       "      <td>5.60</td>\n",
       "    </tr>\n",
       "    <tr>\n",
       "      <th>3</th>\n",
       "      <td>2016</td>\n",
       "      <td>Filosofía</td>\n",
       "      <td>8.30</td>\n",
       "    </tr>\n",
       "    <tr>\n",
       "      <th>4</th>\n",
       "      <td>2016</td>\n",
       "      <td>Física</td>\n",
       "      <td>4.70</td>\n",
       "    </tr>\n",
       "    <tr>\n",
       "      <th>5</th>\n",
       "      <td>2016</td>\n",
       "      <td>Mates</td>\n",
       "      <td>5.15</td>\n",
       "    </tr>\n",
       "    <tr>\n",
       "      <th>6</th>\n",
       "      <td>2017</td>\n",
       "      <td>Filosofía</td>\n",
       "      <td>7.20</td>\n",
       "    </tr>\n",
       "    <tr>\n",
       "      <th>7</th>\n",
       "      <td>2017</td>\n",
       "      <td>Física</td>\n",
       "      <td>6.50</td>\n",
       "    </tr>\n",
       "    <tr>\n",
       "      <th>8</th>\n",
       "      <td>2017</td>\n",
       "      <td>Mates</td>\n",
       "      <td>7.30</td>\n",
       "    </tr>\n",
       "  </tbody>\n",
       "</table>\n",
       "</div>"
      ],
      "text/plain": [
       "   year asignatura  avg_nota\n",
       "0  2015  Filosofía      8.50\n",
       "1  2015     Física      7.30\n",
       "2  2015      Mates      5.60\n",
       "3  2016  Filosofía      8.30\n",
       "4  2016     Física      4.70\n",
       "5  2016      Mates      5.15\n",
       "6  2017  Filosofía      7.20\n",
       "7  2017     Física      6.50\n",
       "8  2017      Mates      7.30"
      ]
     },
     "execution_count": 52,
     "metadata": {},
     "output_type": "execute_result"
    }
   ],
   "source": [
    "query = \"\"\"\n",
    "\n",
    "select year, asignatura, avg(nota) as avg_nota\n",
    "from asignaturas as a\n",
    "inner join notas as n on n.asign_id = a.asign_id\n",
    "group by year, asignatura\n",
    "\n",
    "\"\"\"\n",
    "\n",
    "pd.read_sql(query, conn)"
   ]
  },
  {
   "cell_type": "code",
   "execution_count": 53,
   "metadata": {},
   "outputs": [
    {
     "data": {
      "text/html": [
       "<div>\n",
       "<style>\n",
       "    .dataframe thead tr:only-child th {\n",
       "        text-align: right;\n",
       "    }\n",
       "\n",
       "    .dataframe thead th {\n",
       "        text-align: left;\n",
       "    }\n",
       "\n",
       "    .dataframe tbody tr th {\n",
       "        vertical-align: top;\n",
       "    }\n",
       "</style>\n",
       "<table border=\"1\" class=\"dataframe\">\n",
       "  <thead>\n",
       "    <tr style=\"text-align: right;\">\n",
       "      <th></th>\n",
       "      <th>year</th>\n",
       "      <th>asignatura</th>\n",
       "      <th>min(avg_nota)</th>\n",
       "    </tr>\n",
       "  </thead>\n",
       "  <tbody>\n",
       "    <tr>\n",
       "      <th>0</th>\n",
       "      <td>2015</td>\n",
       "      <td>Mates</td>\n",
       "      <td>5.6</td>\n",
       "    </tr>\n",
       "    <tr>\n",
       "      <th>1</th>\n",
       "      <td>2016</td>\n",
       "      <td>Física</td>\n",
       "      <td>4.7</td>\n",
       "    </tr>\n",
       "    <tr>\n",
       "      <th>2</th>\n",
       "      <td>2017</td>\n",
       "      <td>Física</td>\n",
       "      <td>6.5</td>\n",
       "    </tr>\n",
       "  </tbody>\n",
       "</table>\n",
       "</div>"
      ],
      "text/plain": [
       "   year asignatura  min(avg_nota)\n",
       "0  2015      Mates            5.6\n",
       "1  2016     Física            4.7\n",
       "2  2017     Física            6.5"
      ]
     },
     "execution_count": 53,
     "metadata": {},
     "output_type": "execute_result"
    }
   ],
   "source": [
    "\n",
    "\n",
    "\n",
    "query = \"\"\"\n",
    "\n",
    "SELECT avg_note_year.year, avg_note_year.asignatura, min(avg_note_year.avg_nota)\n",
    "FROM (\n",
    "\n",
    "    select year, asignatura, avg(nota) as avg_nota\n",
    "    from asignaturas as a\n",
    "    inner join notas as n on n.asign_id = a.asign_id\n",
    "    group by year, asignatura) as avg_note_year\n",
    "\n",
    "GROUP BYyear\n",
    "\n",
    "\"\"\"\n",
    "\n",
    "pd.read_sql(query, conn)"
   ]
  },
  {
   "cell_type": "markdown",
   "metadata": {},
   "source": [
    "#### Ejercicio 6: Que estudiantes no se han presentado a ningún examen?"
   ]
  },
  {
   "cell_type": "code",
   "execution_count": null,
   "metadata": {
    "collapsed": true
   },
   "outputs": [],
   "source": []
  },
  {
   "cell_type": "markdown",
   "metadata": {},
   "source": [
    "#### Ejercicio 7: Quienes son los mejores estudiantes de cada asignatura de cada año?"
   ]
  },
  {
   "cell_type": "code",
   "execution_count": null,
   "metadata": {
    "collapsed": true
   },
   "outputs": [],
   "source": []
  }
 ],
 "metadata": {
  "kernelspec": {
   "display_name": "Python 3",
   "language": "python",
   "name": "python3"
  },
  "language_info": {
   "codemirror_mode": {
    "name": "ipython",
    "version": 3
   },
   "file_extension": ".py",
   "mimetype": "text/x-python",
   "name": "python",
   "nbconvert_exporter": "python",
   "pygments_lexer": "ipython3",
   "version": "3.6.1"
  }
 },
 "nbformat": 4,
 "nbformat_minor": 2
}
