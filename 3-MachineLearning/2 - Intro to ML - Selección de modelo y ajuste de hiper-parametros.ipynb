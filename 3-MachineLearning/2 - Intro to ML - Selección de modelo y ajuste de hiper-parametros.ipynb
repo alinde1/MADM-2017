{
 "cells": [
  {
   "cell_type": "markdown",
   "metadata": {},
   "source": [
    "# Intro to ML\n",
    "## Selección de modelo y ajuste de hiper-parametros\n",
    "---\n",
    "\n",
    "En la sesión anterior vimos cómo usar la librería *de facto* para machine learning en python: `sklearn`.\n",
    "\n",
    "En la sesión de hoy hablaremos de como las funcionalidades avanzadas de `sklearn` nos facilitan tanto la elección de modelos cómo su validación.\n",
    "\n",
    "<div class=\"panel panel-success\">\n",
    "    <div class='panel-heading'>\n",
    "    <h4>Empecemos</h4>\n",
    "    </div>\n",
    "    <div class='panel-body'>\n",
    "    <ol type=\"A\">\n",
    "    <li>Selección de Modelos</li>\n",
    "    <li>Ajuste de hiper-parámetros</li>\n",
    "</ol>\n",
    "    "
   ]
  },
  {
   "cell_type": "markdown",
   "metadata": {},
   "source": [
    "## 1. Selección de Modelos\n",
    "---\n",
    "\n",
    "Los algoritmos de ML son herramientas muy potentes que nos permiten tanto ganar información no accesible a primera vista y, además, realizar modelos sobre los datos de forma que podamos hacer predicciones sobre nuevas observaciones.\n",
    "\n",
    "A la hora de encarar un modelado predictivo, tenemos a nuestro haber un abanico muy amplio de modelos sobre los que elegir. La pregunta es: ¿cómo elijo un modelo?\n",
    "\n",
    "### 1.1 Bies y varianza\n",
    "\n",
    "Cómo bien sabéis a estas alturas, si nos dan una serie de atributos (*features*) $X = x_1, ..., x_n$ y un objetivo asociado (*target*) $y = y_1, ...y_n$, existe una función **real** $f(x)$ que nos permite modelar los datos de forma que $y = f(x) + \\epsilon$, dónde $\\epsilon$ es ruido con $\\mu = 0$ y $var = \\sigma^2$\n",
    "\n",
    "Lo que queremos conseguir es un modelo, al que llamaremos $\\hat{f}(x)$ que **aproxime** la función real lo mejor posible. Sucede que independientemente del modelo de ML que seleccionemos para aproximarnos a la función **real** podemos descomponer el **error** que comete nuestro modelo $\\hat{y}$ sobre nuevas observaciones $x_{test}$ en tres componentes distintas:\n",
    "\n",
    "$ Err(x) = \\mathbb{E} \\left[ \\left( y_{test} - \\hat{y} \\right)^2 \\right] = \\left(E[\\hat{f}(x)]-f(x)\\right)^2 + E\\left[\\left(\\hat{f}(x)-E[\\hat{f}(x)]\\right)^2\\right] +\\sigma_e^2$\n",
    "\n",
    "* **Bias (sesgo)**\n",
    "\n",
    "$E[\\hat{f}(x)]-f(x)$\n",
    "\n",
    "La diferencia entre el valor predicho por el modelo y el valor real.\n",
    "\n",
    "Respecto al modelado, puede interpretarse como los supuestos de simplificación que hace un modelo para facilitar el aprendizaje de la función objetivo.\n",
    "\n",
    "* Low bias: Pocos supuestos sobre la forma de los datos, más flexibles: Decission trees, knn, ...\n",
    "* High bias: Simplificaciones sobre la forma de los datos, menos flexibles: Linear models\n",
    "\n",
    "\n",
    "* **Varianza**\n",
    "\n",
    "$E\\left[\\left(\\hat{f}(x)-E[\\hat{f}(x)]\\right)^2\\right]$\n",
    "\n",
    "El error producido debido a la sensibilidad del modelo con respecto a los datos de entreno. Imagina que de un set de datos extraemos de forma aleatoria dos subgrupos de entreno. Idealmente, las predicciones del modelo no deberían cambiar mucho de un set de entreno a otro. Esto significaría que el modelo que hemos entrenado está haciendo un buen trabajo haciendo el mapeo de las variables de entrada a y salida.\n",
    "\n",
    "Podemos dividir los distintos algoritmos de ML segun como le afectan los cambios en los datos de entreno:\n",
    "\n",
    "* Low Variance: Pequeños cambios en las estimaciones predichas: Linear models\n",
    "* High Variance: Grandes cambios en las estimaciones predichas: Decission trees, knn, ...\n",
    "\n",
    "### 1.2 Compromiso entre bies y varianza\n",
    "\n",
    "Como hemos visto, los modelos paramétricos, tipo los lineales, son modelos con un alto bies y una baja varianza. Por otro lado, los algoritmos no paramétricos, tipo los arboles de decision, son modelos con bajo bies y alta varianza.\n",
    "\n",
    "Existe un problema de modelado referente a cada uno de los casos. En el primero, corremos el riesgo de so-entreno (underfitting), es decir, que nuestro modelo no sea lo suficientemente flexible como para poder representar la función real que intentamos aproximar. En el segundo caso, nos encontramos en el polo opuesto: nuestro modelo es tan flexible que en vez de aproximarse a la función real se \"aprende\" el set de datos de entreno de memoria, por lo que impide la generalización del modelo fuera del set de entreno.\n",
    "\n",
    "<img src='img/underfitting_overfitting.png'>\n",
    "\n",
    "<img src='img/bias-variance.png'>\n",
    "\n",
    "Vemos en el gráfico de arriba que un buen modelo es aquel que nos minimiza el error de las predicciones y que este óptimo implica un compromiso entre lo simple o complejo que es mi modelo y los datos que quiero representar.\n",
    "\n",
    "Entonces, ¿cómo prevenimos que nuestro modelo se quede corto o bien no generalice de forma óptima a nuevas observaciones?\n",
    "\n",
    "La única forma de comprobar que nuestro modelo generaliza bien es guardando una parte de los datos para medir el error *out-of-sample*, es decir, el error sobre los datos que no ha visto el modelo durante la fase de entreno."
   ]
  },
  {
   "cell_type": "markdown",
   "metadata": {},
   "source": [
    "### Preparación del entorno\n",
    "---\n",
    "** Ejercicio 0: Cómo siempre, empezaremos por cargar las librerías necesarias para poder trabajar con datos en python**"
   ]
  },
  {
   "cell_type": "code",
   "execution_count": null,
   "metadata": {
    "collapsed": true
   },
   "outputs": [],
   "source": [
    "%matplotlib inline\n",
    "\n",
    "import seaborn as sns\n",
    "import matplotlib.pyplot as plt\n",
    "import pandas as pd\n",
    "import numpy as np\n",
    "\n",
    "## figure aesthetics\n",
    "sns.set_context('notebook')\n",
    "sns.set_style('white')"
   ]
  },
  {
   "cell_type": "markdown",
   "metadata": {},
   "source": [
    "** Ejercicio 1: Carga el dataset de ejemplo por defecto de las casas de boston **"
   ]
  },
  {
   "cell_type": "code",
   "execution_count": null,
   "metadata": {
    "collapsed": true,
    "scrolled": true
   },
   "outputs": [],
   "source": []
  },
  {
   "cell_type": "markdown",
   "metadata": {},
   "source": [
    "** Ejercicio 2: Haz un descriptivo rápido y revisa las primeras columnas**"
   ]
  },
  {
   "cell_type": "code",
   "execution_count": null,
   "metadata": {
    "collapsed": true
   },
   "outputs": [],
   "source": []
  },
  {
   "cell_type": "markdown",
   "metadata": {},
   "source": [
    "** Ejercicio 3: Haz un plot de la correlación entre variables **"
   ]
  },
  {
   "cell_type": "code",
   "execution_count": null,
   "metadata": {
    "collapsed": true
   },
   "outputs": [],
   "source": []
  },
  {
   "cell_type": "markdown",
   "metadata": {},
   "source": [
    "** Ejercicio 4: Haz un pairplot para ver somo se relacionan entre ellas las variables más correlacionadas**"
   ]
  },
  {
   "cell_type": "code",
   "execution_count": null,
   "metadata": {
    "collapsed": true
   },
   "outputs": [],
   "source": []
  },
  {
   "cell_type": "markdown",
   "metadata": {},
   "source": [
    "---\n",
    "Para ilustrar de forma práctica el concepto de overfitting y el compromiso entre el bies y la varianza, vamos a simplificar el modelado usando solo la variable `LSTAT` y dos modelos distintos que representen a los dos extremos de los puntos anteriores:\n",
    "\n",
    "* Bajo bies y alta varianza: ???\n",
    "\n",
    "* Alto bies y baja varianza: ???\n",
    "\n",
    "Antes de empezar, vamos a ver de forma clara como luce nuestro problema de una sola variable."
   ]
  },
  {
   "cell_type": "markdown",
   "metadata": {},
   "source": [
    "** Ejercicio 5: Haz un grafico con la relación de la variable objetivo `y` con el único predictor, `LSTAT`**"
   ]
  },
  {
   "cell_type": "code",
   "execution_count": null,
   "metadata": {
    "collapsed": true
   },
   "outputs": [],
   "source": []
  },
  {
   "cell_type": "markdown",
   "metadata": {},
   "source": [
    "** Ejercicio 6: Divide el dataset en dos sub datasets, el de entreno y el de testeo con el 10% del tamaño total del dataset. Haz un grafico como el anterior con los diferentes datasets con colores distintos. **\n"
   ]
  },
  {
   "cell_type": "code",
   "execution_count": null,
   "metadata": {
    "collapsed": true
   },
   "outputs": [],
   "source": [
    "from sklearn.model_selection import train_test_split\n"
   ]
  },
  {
   "cell_type": "markdown",
   "metadata": {},
   "source": [
    "** Ejercicio 7: Importa de la libreria sklearn los modelos elegidos anteriormente y entrenalos**"
   ]
  },
  {
   "cell_type": "code",
   "execution_count": null,
   "metadata": {},
   "outputs": [],
   "source": []
  },
  {
   "cell_type": "markdown",
   "metadata": {},
   "source": [
    "** Ejercicio 8: Evalúa el error producido dentro de la muestra de entreno para los dos algoritmos. Utiliza el RMSE**"
   ]
  },
  {
   "cell_type": "code",
   "execution_count": null,
   "metadata": {},
   "outputs": [],
   "source": [
    "from sklearn.metrics import mean_squared_error\n",
    "\n",
    "def RMSE(y_true, y_pred):\n",
    "    return ###\n",
    "\n",
    "y_pred_train_DT = ##\n",
    "y_pred_train_LR = ##\n",
    "\n",
    "in_sample_error_DT = RMSE(y_train, y_pred_train_DT)\n",
    "in_sample_error_LR = RMSE(y_train, y_pred_train_LR)\n",
    "\n",
    "print('In sample error for DT: {e} miles de $'.format(e=round(in_sample_error_DT, 2)))\n",
    "print('In sample error for LR: {e} miles de $'.format(e= round(in_sample_error_LR, 2)))"
   ]
  },
  {
   "cell_type": "markdown",
   "metadata": {},
   "source": [
    "** Ejercicio 9: Evalúa el error producido fuera de la muestra de entreno (datos de test) para los dos algoritmos. Utiliza el RMSE**"
   ]
  },
  {
   "cell_type": "code",
   "execution_count": null,
   "metadata": {},
   "outputs": [],
   "source": [
    "y_pred_test_DT = ##\n",
    "y_pred_test_LR = ##\n",
    "\n",
    "out_sample_error_DT = RMSE(y_test, y_pred_test_DT)\n",
    "out_sample_error_LR = RMSE(y_test, y_pred_test_LR)\n",
    "\n",
    "print('Out of sample error for DT: {e} miles de $'.format(e=round(out_sample_error_DT, 2)))\n",
    "print('Out of sample error for LR: {e} miles de $'.format(e= round(out_sample_error_LR, 2)))"
   ]
  },
  {
   "cell_type": "markdown",
   "metadata": {},
   "source": [
    "### Check point\n",
    "\n",
    "Qué esta pasando? Parece que un modelo simple de regresión lineal generaliza mejor que un modelo con un bies bajo? Cómo puede ser esto?\n"
   ]
  },
  {
   "cell_type": "markdown",
   "metadata": {},
   "source": [
    "** Ejercicio 10: Haz una predicción para todos los valores que pueden tomar la variable de predicción ** "
   ]
  },
  {
   "cell_type": "code",
   "execution_count": null,
   "metadata": {
    "collapsed": true
   },
   "outputs": [],
   "source": [
    "# calcula el valor minimo del campo LSTAT\n",
    "x_min = ###\n",
    "\n",
    "# calcula el valor máximo del campo LSTAT\n",
    "x_max = ###\n",
    "# Crea un array de 200 elementos que vayan de manera uniforme entre los límites de LSTAT.\n",
    "x = ###\n",
    "\n",
    "# Haz un reshape de los valores usando .reshape(-1, 1). Nos evitará problemas con el resto de la librería.\n",
    "x = ###\n",
    "# Haz una predicción para los valores del array creado en el paso anterior para cada uno de los modelos\n",
    "y_DT = ###\n",
    "y_LR = ###"
   ]
  },
  {
   "cell_type": "markdown",
   "metadata": {},
   "source": [
    "** Ejercicio 11: Haz un gráfico x-y con los valores de entreno y test con las predicciones de cada uno de los modelos**"
   ]
  },
  {
   "cell_type": "code",
   "execution_count": null,
   "metadata": {
    "collapsed": true
   },
   "outputs": [],
   "source": [
    "# crea un subplot de dos columnas con un tamaño de 12 x 6\n",
    "\n",
    "# Asigna al primer subplot los datos de entreno contra las predicciones de los dos modelos\n",
    "\n",
    "\n",
    "# Asigna al segundo subplot los datos de testeo contra las predicciones de los dos modelos\n"
   ]
  },
  {
   "cell_type": "markdown",
   "metadata": {},
   "source": [
    "En efecto, lo que estamos observando aquí en directo es nada más ni nada menos que los efectos de so y sobre entreno. El arbol de decisión, al irse creando a medida que se entrena sobre los datos, se adapta demasiado bien a los datos de entreno y generaliza mal. Uno de los hiper-parametros que nos permite \"jugar\" con la flexibilidad del modelo es la profundidad (max_depth). Vamos a echarle un vistazo más cercano."
   ]
  },
  {
   "cell_type": "markdown",
   "metadata": {},
   "source": [
    "** Ejercicio 12: Compara gráficamente como evoluciona el RMSE en función de la profundidad del arbol**"
   ]
  },
  {
   "cell_type": "code",
   "execution_count": null,
   "metadata": {},
   "outputs": [],
   "source": [
    "## crea un iterable que vaya del 1 al 20\n",
    "max_depths = ###\n",
    "\n",
    "## inicializa dos listas vacias, una para el error de entreno y otra para el de testeo\n",
    "\n",
    "## itera sobre el iterable max_depths. \n",
    "for ... in ... :\n",
    "    ##Entrena un modelo para cada depth\n",
    "    \n",
    "    ## Calcula el error de las predicciones\n",
    "    \n",
    "    ## Haz un append sobre las listas anteriores\n",
    "\n",
    "    \n",
    "# haz un grafico para comparar los resultados de las dos listas\n",
    "\n",
    "plt.xlabel('max_depth')\n",
    "plt.ylabel('RMSE')\n",
    "plt.legend(loc='best')"
   ]
  },
  {
   "cell_type": "markdown",
   "metadata": {},
   "source": [
    "## Validación cruzada (cross-validation)\n",
    "---\n",
    "Ya hemos visto que el mejor modelo no es aquel que minimiza el error dentro de la muestra de entreno, si no que es aquel que minimiza el error de la muestra de testeo.\n",
    "\n",
    "A pesar de que la división entre datos de entreno y datos de testeo da buenos resultados, es una aproximación básica que no nos permite afinar los hiperparametros de forma correcta. A base de afinar los hiperparametros evaluando el modelo en el set de testeo, podemos acabar incurriendon en una especie de \"filtración\" de la información de los datos de testeo al modelo. Con tal de evitar esto, en vez de dividir sólo en datos de entreno y testeo, deberíamos dividirlos en 3 partes: entreno, validación y test. De esta forma, podemos entrenar y refinar sobre los datos de entreno y validación para que una vez tengamos el modelo \"afinado\" podamos testearlo en el set de test.\n",
    "\n",
    "<img src='img/trainvalidationtest.jpg'>\n",
    "\n",
    "Esta aproximación, a pesar de ser correcta, implica ciertas limitaciones:\n",
    "\n",
    "1. Reduce drásticamente el volumen de datos con el que estamos trabajando\n",
    "1. No permite hacer \"estadística\" sobre los valores que obtenemos\n",
    "\n",
    "Una forma de hacer frente a estas limitaciónes es mediante la técnica conocida cómo **validación cruzada**. Consiste en dividir el set de datos en $k$ partes iguales. Una vez hecho esto, podemos entrenar el modelo en $k-1$ y testear en aquella que hemos reservado. A esto se le llama *k-fold cross validation*. Entre sus variantes encontramos:\n",
    "\n",
    "- **Stratified K-Fold Validation**: cada sub muestra mantiene la proporción de y's (clasificación)\n",
    "- **Leave-One-Out**: Si $k=n$, dónde $n$ es el número de muestras que tenemos. Intensivo a nivel computacional\n",
    "\n",
    "<img src='img/kfold.png'>\n",
    "\n",
    "Echale un vistazo a la [documentación](http://scikit-learn.org/stable/modules/cross_validation.html)!\n"
   ]
  },
  {
   "cell_type": "code",
   "execution_count": null,
   "metadata": {},
   "outputs": [],
   "source": [
    "from sklearn.model_selection import cross_val_score\n",
    "from sklearn.metrics import make_scorer\n",
    "\n",
    "rmse_scorer = make_scorer(RMSE, greater_is_better=False)\n",
    "\n",
    "DT_scores = cross_val_score(estimator=DecisionTreeRegressor(), X=df[['LSTAT']].values, y=df.y, cv=10, scoring=rmse_scorer)\n",
    "\n",
    "print('RMSE for DT: {m} +- {s}'.format(m=-round(DT_scores.mean(), 2),\n",
    "                                       s=round(DT_scores.std(),2)))"
   ]
  },
  {
   "cell_type": "markdown",
   "metadata": {},
   "source": [
    "** Ejercicio 13: Calcula el RMSE medio para la regresión lineal usando un k=5**"
   ]
  },
  {
   "cell_type": "code",
   "execution_count": null,
   "metadata": {
    "collapsed": true
   },
   "outputs": [],
   "source": []
  },
  {
   "cell_type": "markdown",
   "metadata": {},
   "source": [
    "** Ejercicio 14: Grafica cómo evoluciona el RMSE medio para k=10, en comparación con los calculados en el ejercicio 12 **"
   ]
  },
  {
   "cell_type": "code",
   "execution_count": null,
   "metadata": {},
   "outputs": [],
   "source": [
    "# inicializa dos lista vacias, una para la media y otra para los arrays de errores\n",
    "cv_test_errors_mean = []\n",
    "cv_test_errors_list = []\n",
    "\n",
    "#itera sobre la lista de max_depths del ejercicio 12\n",
    "for ... in ...:\n",
    "    # Instancia el arbol\n",
    "    \n",
    "    # calcula el error usando cross_val_score y todo el set de datos.\n",
    "    # Recuerda en negar el resultado\n",
    "\n",
    "    #calcula el valor medio y haz un append a la lista\n",
    "    \n",
    "    # haz un append a la lista con todo el array de errores\n",
    "\n",
    "\n",
    "## Ploteamos para comparar los errores del ejercicio 12 y los del cross validation\n",
    "\n",
    "plt.plot(max_depths, in_sample_errors, c='firebrick', label='In-Sample Error')\n",
    "plt.plot(max_depths, out_sample_errors, label='Out-Sample Error')\n",
    "plt.plot(max_depths, cv_test_errors_mean, label='Cross-Validation Error')\n",
    "plt.legend(loc='best')\n",
    "\n",
    "errors = pd.DataFrame(cv_test_errors_list)\n",
    "for e in errors:\n",
    "    plt.plot(max_depths, errors[e], c='gray', alpha=0.2)\n",
    "\n",
    "plt.xlabel('max_depth')\n",
    "plt.ylabel('RMSE')\n"
   ]
  },
  {
   "cell_type": "markdown",
   "metadata": {},
   "source": [
    "# 2. Grid Search: ajuste de hiper-parametros.\n",
    "---\n",
    "Como hemos visto en el apartado anterior, podemos ajustar los hiper-parametros de ciertos modelos para aumentar o disminuir su \"flexibilidad\" a la hora de adaptarse a los datos y seleccionar el mejor a partir del resultado de la validación cruzada. Si repitieramos el ejercicio anterior para cada uno de los hiper-parametros del modelo podriamos afinar el modelo para poder exprimirlo completamente.\n",
    "\n",
    "Podemos automátizar este proceso por fuerza bruta definiendo un espacio de busqueda sobre los distintos hiper-parametros que queremos probar y calculando el error cométido para cada una de las combinaciones.\n",
    "\n",
    "Sklearn nos da una herramienta muy útil para tal propósito, GridSearchCV. Esta herramienta evaluará el modelo con cada una de las combinaciones de hiper-parametros utilizando la técnica del cross validation.\n",
    "\n",
    "Veamos como usarla."
   ]
  },
  {
   "cell_type": "code",
   "execution_count": null,
   "metadata": {},
   "outputs": [],
   "source": [
    "from sklearn.model_selection import GridSearchCV\n",
    "\n",
    "params = {'max_depth': ###,\n",
    "         'min_samples_split': ####,\n",
    "          'min_samples_leaf': ###}\n",
    "\n",
    "reg = DecisionTreeRegressor()\n",
    "          \n",
    "gs_reg_DT = GridSearchCV(estimator=,\n",
    "                         param_grid=,\n",
    "                         cv=5,\n",
    "                         scoring=rmse_scorer)\n",
    "\n",
    "gs_reg_DT.fit(df[['LSTAT']].values, df.y)\n",
    "print(gs_reg_DT.best_params_)"
   ]
  },
  {
   "cell_type": "markdown",
   "metadata": {},
   "source": [
    "** Ejercicio 15: Guarda en un dataframe los resultados de las iteraciones. Los encontraras en .cv_results_ **"
   ]
  },
  {
   "cell_type": "code",
   "execution_count": null,
   "metadata": {
    "collapsed": true
   },
   "outputs": [],
   "source": []
  },
  {
   "cell_type": "markdown",
   "metadata": {},
   "source": [
    "** Ejercicio 16: Compara graficamente el mejor modelo DT con la regresion lineal y el arbol de decision iniciales**"
   ]
  },
  {
   "cell_type": "code",
   "execution_count": null,
   "metadata": {
    "collapsed": true
   },
   "outputs": [],
   "source": []
  }
 ],
 "metadata": {
  "kernelspec": {
   "display_name": "Python 3",
   "language": "python",
   "name": "python3"
  },
  "language_info": {
   "codemirror_mode": {
    "name": "ipython",
    "version": 3
   },
   "file_extension": ".py",
   "mimetype": "text/x-python",
   "name": "python",
   "nbconvert_exporter": "python",
   "pygments_lexer": "ipython3",
   "version": "3.6.1"
  }
 },
 "nbformat": 4,
 "nbformat_minor": 2
}
